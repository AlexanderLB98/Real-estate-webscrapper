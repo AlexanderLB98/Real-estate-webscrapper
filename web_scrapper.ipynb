{
 "cells": [
  {
   "cell_type": "code",
   "execution_count": 1,
   "id": "ee9b34f5-ea98-4f73-8706-816605b02ca2",
   "metadata": {},
   "outputs": [],
   "source": [
    "import requests\n",
    "from bs4 import BeautifulSoup as bs\n",
    "import random\n",
    "import time\n",
    "import pandas as pd\n",
    "import numpy as np\n",
    "from selenium import webdriver\n",
    "from selenium.webdriver.common.by import By\n",
    "from selenium.webdriver.common.keys import Keys\n",
    "import undetected_chromedriver as uc\n",
    "import time"
   ]
  },
  {
   "cell_type": "code",
   "execution_count": 2,
   "id": "bf5ad4fa-cb93-491b-a1e6-f0650f16a265",
   "metadata": {},
   "outputs": [],
   "source": [
    "browser = uc.Chrome()"
   ]
  },
  {
   "cell_type": "code",
   "execution_count": 3,
   "id": "c92135ae-84f4-4485-85b5-dd718914575c",
   "metadata": {},
   "outputs": [],
   "source": [
    "url2= 'https://www.idealista.com/venta-viviendas/barcelona-barcelona/'"
   ]
  },
  {
   "cell_type": "code",
   "execution_count": 4,
   "id": "a2b9018c-60e7-4e9d-b6ba-8f3e120cab5e",
   "metadata": {},
   "outputs": [],
   "source": [
    "browser.get(url2)"
   ]
  },
  {
   "cell_type": "code",
   "execution_count": 5,
   "id": "fb218d96-c24d-4d87-94a5-12a830dececd",
   "metadata": {},
   "outputs": [],
   "source": [
    "browser.implicitly_wait(10)"
   ]
  },
  {
   "cell_type": "code",
   "execution_count": 6,
   "id": "841be96d",
   "metadata": {},
   "outputs": [
    {
     "name": "stdout",
     "output_type": "stream",
     "text": [
      "          ID                                             Título  \\\n",
      "0  103930029  Ático en Gran Via de les Corts Catalanes, L'An...   \n",
      "\n",
      "                                          Enlace    Precio  \\\n",
      "0  https://www.idealista.com/inmueble/103930029/  750.000€   \n",
      "\n",
      "                                           Detalles  \\\n",
      "0  2 hab. | 97 m² | Planta 8ª exterior con ascensor   \n",
      "\n",
      "                                         Descripción  \n",
      "0  Este maravilloso ático de 87 m2 construidos in...  \n",
      "          ID                                       Título  \\\n",
      "0  106476051  Piso en paseo de Colom, El Gòtic, Barcelona   \n",
      "\n",
      "                                          Enlace      Precio  \\\n",
      "0  https://www.idealista.com/inmueble/106476051/  1.275.000€   \n",
      "\n",
      "                                            Detalles  \\\n",
      "0  2 hab. | 131 m² | Planta 2ª exterior con ascensor   \n",
      "\n",
      "                                         Descripción  \n",
      "0  Exclusivo piso de 131 m² en el Barrio Gótico d...  \n",
      "          ID                                          Título  \\\n",
      "0  106475860  Piso en calle de la Mercè, El Gòtic, Barcelona   \n",
      "\n",
      "                                          Enlace    Precio  \\\n",
      "0  https://www.idealista.com/inmueble/106475860/  765.000€   \n",
      "\n",
      "                                            Detalles  \\\n",
      "0  2 hab. | 110 m² | Entreplanta exterior con asc...   \n",
      "\n",
      "                                         Descripción  \n",
      "0  Apartamento de lujo en Passeig de Colom con vi...  \n"
     ]
    },
    {
     "ename": "KeyboardInterrupt",
     "evalue": "",
     "output_type": "error",
     "traceback": [
      "\u001b[0;31m---------------------------------------------------------------------------\u001b[0m",
      "\u001b[0;31mKeyboardInterrupt\u001b[0m                         Traceback (most recent call last)",
      "Cell \u001b[0;32mIn[6], line 80\u001b[0m\n\u001b[1;32m     77\u001b[0m     df\u001b[38;5;241m.\u001b[39mto_csv(\u001b[38;5;124m\"\u001b[39m\u001b[38;5;124mscraped_data.csv\u001b[39m\u001b[38;5;124m\"\u001b[39m, mode\u001b[38;5;241m=\u001b[39m\u001b[38;5;124m\"\u001b[39m\u001b[38;5;124ma\u001b[39m\u001b[38;5;124m\"\u001b[39m, index\u001b[38;5;241m=\u001b[39m\u001b[38;5;28;01mFalse\u001b[39;00m, header\u001b[38;5;241m=\u001b[39m\u001b[38;5;28;01mFalse\u001b[39;00m)\n\u001b[1;32m     79\u001b[0m     \u001b[38;5;66;03m# Pausa aleatoria para evitar sobrecargar el servidor\u001b[39;00m\n\u001b[0;32m---> 80\u001b[0m     \u001b[43mtime\u001b[49m\u001b[38;5;241;43m.\u001b[39;49m\u001b[43msleep\u001b[49m\u001b[43m(\u001b[49m\u001b[43mrandom\u001b[49m\u001b[38;5;241;43m.\u001b[39;49m\u001b[43mrandint\u001b[49m\u001b[43m(\u001b[49m\u001b[38;5;241;43m1\u001b[39;49m\u001b[43m,\u001b[49m\u001b[43m \u001b[49m\u001b[38;5;241;43m3\u001b[39;49m\u001b[43m)\u001b[49m\u001b[43m)\u001b[49m\n\u001b[1;32m     82\u001b[0m \u001b[38;5;66;03m# Check for the 'next' page link to stop if there are no more pages\u001b[39;00m\n\u001b[1;32m     83\u001b[0m next_page \u001b[38;5;241m=\u001b[39m soup\u001b[38;5;241m.\u001b[39mfind(\u001b[38;5;124m'\u001b[39m\u001b[38;5;124ma\u001b[39m\u001b[38;5;124m'\u001b[39m, {\u001b[38;5;124m'\u001b[39m\u001b[38;5;124mclass\u001b[39m\u001b[38;5;124m'\u001b[39m: \u001b[38;5;124m'\u001b[39m\u001b[38;5;124micon-arrow-right-after\u001b[39m\u001b[38;5;124m'\u001b[39m})\n",
      "\u001b[0;31mKeyboardInterrupt\u001b[0m: "
     ]
    }
   ],
   "source": [
    "# Una pagina completa\n",
    "\n",
    "busqueda = 'barcelona'\n",
    "\n",
    "busqueda = busqueda.replace(' ', '-')\n",
    "x = 1\n",
    "ids = []\n",
    "df = pd.DataFrame(columns=['ID', 'Título', 'Enlace', 'Precio', 'Detalles', 'Descripción'])\n",
    "df.to_csv(\"scraped_data.csv\", mode=\"a\", index=False, header=True)\n",
    "\n",
    "while True:\n",
    "    url = f'https://www.idealista.com/venta-viviendas/barcelona-barcelona/pagina-{x}.htm'\n",
    "\n",
    "    browser.get(url)\n",
    "    time.sleep(random.randint(10, 12))\n",
    "\n",
    "    try:\n",
    "        browser.find_element(\"xpath\", '//*[@id=\"didomi-notice-agree-button\"]').click()\n",
    "    except:\n",
    "        pass\n",
    "\n",
    "    html = browser.page_source\n",
    "    soup = bs(html, 'html.parser')\n",
    "\n",
    "    # Check if the current page number matches the one displayed in pagination\n",
    "    try:\n",
    "        pagina_actual = int(soup.find('main', {'class': 'listing-items'}).find('div', {'class': 'pagination'}).find('li', {'class': 'selected'}).text)\n",
    "    except AttributeError:\n",
    "        print(\"Error: Could not find the pagination element.\")\n",
    "        break\n",
    "\n",
    "    # Fetch the articles if the current page matches\n",
    "    if x == pagina_actual:\n",
    "        articles = soup.find('main', {'class': 'listing-items'}).find_all('article')\n",
    "    else:\n",
    "        break\n",
    "\n",
    "    if not articles:\n",
    "        print(\"No more apartments found.\")\n",
    "        break  # Stop if no articles are found\n",
    "\n",
    "    for article in articles:\n",
    "        id_muebles = article.get('data-element-id')\n",
    "\n",
    "        # Título y enlace\n",
    "        link = article.find('a', {'class': 'item-link'})\n",
    "        title = link.get_text(strip=True) if link else \"No disponible\"\n",
    "        href = link['href'] if link else \"No disponible\"\n",
    "        full_link = f\"https://www.idealista.com{href}\" if href != \"No disponible\" else href\n",
    "        \n",
    "        # Precio\n",
    "        price = article.find('span', {'class': 'item-price'})\n",
    "        price_text = price.get_text(strip=True) if price else \"No disponible\"\n",
    "\n",
    "        # Detalles adicionales\n",
    "        details = article.find('div', {'class': 'item-detail-char'})\n",
    "        details_text = details.get_text(\" | \", strip=True) if details else \"No disponible\"\n",
    "\n",
    "        # Descripción\n",
    "        description = article.find('p', {'class': 'ellipsis'})\n",
    "        description_text = description.get_text(strip=True) if description else \"No disponible\"\n",
    "\n",
    "        # Añadir los datos al DataFrame\n",
    "        new_row = pd.DataFrame({\n",
    "            'ID': [id_muebles],  # Wrap the scalar in a list\n",
    "            'Título': [title],\n",
    "            'Enlace': [full_link],\n",
    "            'Precio': [price_text],\n",
    "            'Detalles': [details_text],\n",
    "            'Descripción': [description_text]\n",
    "        })\n",
    "        print(new_row)\n",
    "        \n",
    "        df = pd.concat([df, new_row], ignore_index=True)\n",
    "        \n",
    "        # Escribir en el CSV después de cada artículo\n",
    "        df.to_csv(\"scraped_data.csv\", mode=\"a\", index=False, header=False)\n",
    "        \n",
    "        # Pausa aleatoria para evitar sobrecargar el servidor\n",
    "        time.sleep(random.randint(1, 3))\n",
    "\n",
    "    # Check for the 'next' page link to stop if there are no more pages\n",
    "    next_page = soup.find('a', {'class': 'icon-arrow-right-after'})\n",
    "    if next_page is None:\n",
    "        print(\"No more pages to scrape.\")\n",
    "        break  # Stop if there's no 'next' page link\n",
    "\n",
    "    # Move to the next page\n",
    "    x += 1\n",
    "\n",
    "df\n"
   ]
  }
 ],
 "metadata": {
  "kernelspec": {
   "display_name": "webscrapper",
   "language": "python",
   "name": "python3"
  },
  "language_info": {
   "codemirror_mode": {
    "name": "ipython",
    "version": 3
   },
   "file_extension": ".py",
   "mimetype": "text/x-python",
   "name": "python",
   "nbconvert_exporter": "python",
   "pygments_lexer": "ipython3",
   "version": "3.13.0"
  }
 },
 "nbformat": 4,
 "nbformat_minor": 5
}
