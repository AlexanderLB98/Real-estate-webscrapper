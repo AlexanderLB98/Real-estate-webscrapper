{
 "cells": [
  {
   "cell_type": "code",
   "execution_count": null,
   "id": "ee9b34f5-ea98-4f73-8706-816605b02ca2",
   "metadata": {},
   "outputs": [],
   "source": [
    "import requests\n",
    "from bs4 import BeautifulSoup as bs\n",
    "import random\n",
    "import time\n",
    "import pandas as pd\n",
    "import numpy as np\n",
    "from selenium import webdriver\n",
    "from selenium.webdriver.common.by import By\n",
    "from selenium.webdriver.common.keys import Keys\n",
    "import undetected_chromedriver as uc\n",
    "import time"
   ]
  },
  {
   "cell_type": "code",
   "execution_count": null,
   "id": "3bfe1828-19ca-462d-ad46-12bc37b5449a",
   "metadata": {},
   "outputs": [],
   "source": [
    "browser = uc.Chrome()"
   ]
  },
  {
   "cell_type": "code",
   "execution_count": null,
   "id": "223f2aa7-07cc-4002-be93-acb6cb193d4f",
   "metadata": {},
   "outputs": [],
   "source": [
    "url = \"https://www.idealista.com/inmueble/103930029/\""
   ]
  },
  {
   "cell_type": "code",
   "execution_count": null,
   "id": "c2ea56d2-fcb1-4b15-b07d-ab6d2017ed57",
   "metadata": {},
   "outputs": [],
   "source": [
    "browser.get(url)"
   ]
  },
  {
   "cell_type": "code",
   "execution_count": null,
   "id": "ade473c9-aee5-40ec-80c4-28b39b50c799",
   "metadata": {},
   "outputs": [],
   "source": [
    "browser.implicitly_wait(10)"
   ]
  },
  {
   "cell_type": "code",
   "execution_count": null,
   "id": "0125f276-659f-4e9c-b5e8-02a67b614933",
   "metadata": {},
   "outputs": [],
   "source": [
    "browser.find_element(\"xpath\",'//*[@id=\"didomi-notice-agree-button\"]').click()"
   ]
  },
  {
   "cell_type": "code",
   "execution_count": null,
   "id": "d0927385-918f-4dae-9f23-ab7d474f1c2d",
   "metadata": {},
   "outputs": [],
   "source": [
    "html = browser.page_source"
   ]
  },
  {
   "cell_type": "code",
   "execution_count": null,
   "id": "93a9ab85-de1c-4fde-a8ab-bdd1c59c1b7e",
   "metadata": {},
   "outputs": [],
   "source": [
    "soup = bs(html, 'html.parser')"
   ]
  },
  {
   "cell_type": "code",
   "execution_count": null,
   "id": "b71c0e8f-d980-487a-8948-15e65914f860",
   "metadata": {},
   "outputs": [],
   "source": [
    "titulo = soup.find ('span', {'class':'main-info__title-main'}).text\n",
    "titulo"
   ]
  },
  {
   "cell_type": "code",
   "execution_count": null,
   "id": "f0c1617f-cf8a-4d3d-b328-57191ddee558",
   "metadata": {},
   "outputs": [],
   "source": [
    "Localizacion = soup.find ('span', {'class':'main-info__title-minor'}).text.split(',')\n",
    "Localizacion"
   ]
  },
  {
   "cell_type": "code",
   "execution_count": null,
   "id": "fe4c9765-de86-4533-ab56-c41126a691d4",
   "metadata": {},
   "outputs": [],
   "source": [
    "precio = int(soup.find ('span', {'class':'txt-bold'}).text.replace('.',''))\n",
    "precio"
   ]
  },
  {
   "cell_type": "code",
   "execution_count": null,
   "id": "03bacb50-d7e4-4014-b017-b6a9ba055b58",
   "metadata": {},
   "outputs": [],
   "source": [
    "caract = soup.find ('div', {'class':'details-property'}).find('div', {'class':'details-property-feature-one'})"
   ]
  },
  {
   "cell_type": "code",
   "execution_count": null,
   "id": "b2867b93-d53e-4f38-aef9-fb8cc1111c25",
   "metadata": {},
   "outputs": [],
   "source": [
    "caracteristicas_piso = [caracteristicas.text.strip() for caracteristicas in caract.find_all('li')]"
   ]
  },
  {
   "cell_type": "code",
   "execution_count": null,
   "id": "39d19bc1-eb37-4d2d-82ac-8316a2badb72",
   "metadata": {},
   "outputs": [],
   "source": [
    "caract2 = soup.find ('div', {'class':'details-property'}).find('div', {'class':'details-property-feature-two'})"
   ]
  },
  {
   "cell_type": "code",
   "execution_count": null,
   "id": "3a402325-4679-4f9c-b79b-11af5c89c36f",
   "metadata": {},
   "outputs": [],
   "source": [
    "caracteristicas_piso2 = [caracteristicas.text.strip() for caracteristicas in caract2.find_all('li')]\n",
    "caracteristicas_piso2"
   ]
  },
  {
   "cell_type": "code",
   "execution_count": null,
   "id": "e1392edc-41fb-40bc-bae7-581c708c6730",
   "metadata": {},
   "outputs": [],
   "source": [
    "ubi = soup.find ('div',{'id':'headerMap'})"
   ]
  },
  {
   "cell_type": "code",
   "execution_count": null,
   "id": "87fed30a-5907-402b-905e-124f2acbcbee",
   "metadata": {},
   "outputs": [],
   "source": [
    "ubicacion = [localizacion.text.strip() for localizacion in ubi.find_all('li')]"
   ]
  },
  {
   "cell_type": "code",
   "execution_count": null,
   "id": "e67e9698-25ae-4f8a-bdd5-f644bb104cac",
   "metadata": {},
   "outputs": [],
   "source": []
  },
  {
   "cell_type": "code",
   "execution_count": null,
   "id": "bf5ad4fa-cb93-491b-a1e6-f0650f16a265",
   "metadata": {},
   "outputs": [],
   "source": [
    "browser = uc.Chrome()"
   ]
  },
  {
   "cell_type": "code",
   "execution_count": null,
   "id": "c92135ae-84f4-4485-85b5-dd718914575c",
   "metadata": {},
   "outputs": [],
   "source": [
    "url2= 'https://www.idealista.com/venta-viviendas/barcelona-barcelona/'"
   ]
  },
  {
   "cell_type": "code",
   "execution_count": null,
   "id": "a2b9018c-60e7-4e9d-b6ba-8f3e120cab5e",
   "metadata": {},
   "outputs": [],
   "source": [
    "browser.get(url2)"
   ]
  },
  {
   "cell_type": "code",
   "execution_count": null,
   "id": "fb218d96-c24d-4d87-94a5-12a830dececd",
   "metadata": {},
   "outputs": [],
   "source": [
    "browser.implicitly_wait(10)"
   ]
  },
  {
   "cell_type": "code",
   "execution_count": null,
   "id": "f2736811-ef9d-47a3-be59-38adb9b85887",
   "metadata": {},
   "outputs": [],
   "source": [
    "browser.find_element(\"xpath\",'//*[@id=\"didomi-notice-agree-button\"]').click()"
   ]
  },
  {
   "cell_type": "code",
   "execution_count": null,
   "id": "9a10555e-491b-45cc-8648-8af739f15c72",
   "metadata": {},
   "outputs": [],
   "source": [
    "html2 = browser.page_source"
   ]
  },
  {
   "cell_type": "code",
   "execution_count": null,
   "id": "cbd7107f-a12b-4696-aec2-ca4c4e2c7978",
   "metadata": {},
   "outputs": [],
   "source": [
    "soup2 = bs(html2, 'html.parser')"
   ]
  },
  {
   "cell_type": "code",
   "execution_count": null,
   "id": "1873c928-9153-48f7-86fb-55e2f26e79e8",
   "metadata": {},
   "outputs": [],
   "source": [
    "articles = soup2.find ('main', {'class':'listing-items'}).find_all('article')\n",
    "articles"
   ]
  },
  {
   "cell_type": "code",
   "execution_count": null,
   "id": "835cc277-740b-40bb-b2ac-34616df48dc9",
   "metadata": {},
   "outputs": [],
   "source": [
    "id_muebles = [article.get('data-element-id') for article in articles]\n",
    "id_muebles"
   ]
  },
  {
   "cell_type": "code",
   "execution_count": null,
   "id": "0f2d8819-9c16-4050-a76e-57743d7bed19",
   "metadata": {},
   "outputs": [],
   "source": [
    "id_muebles = [muebles for muebles in id_muebles if muebles is not None]\n",
    "id_muebles"
   ]
  },
  {
   "cell_type": "code",
   "execution_count": null,
   "id": "3b9a30cd-88c8-4fc8-a193-96b347b53e20",
   "metadata": {
    "scrolled": true
   },
   "outputs": [],
   "source": [
    "busqueda = 'barcelona'\n",
    "\n",
    "busqueda = busqueda.replace(' ', '-')\n",
    "x=1\n",
    "ids = []\n",
    "\n",
    "while True:\n",
    "\n",
    "    url = f'https://www.idealista.com/venta-viviendas/barcelona-barcelona/pagina-{x}.htm'\n",
    "\n",
    "    browser.get (url)\n",
    "\n",
    "    time.sleep(random.randint(10,12))\n",
    "\n",
    "    try:\n",
    "\n",
    "        browser.find_element(\"xpath\",'//*[@id=\"didomi-notice-agree-button\"]').click()\n",
    "\n",
    "    except:\n",
    "        pass\n",
    "\n",
    "    html = browser.page_source\n",
    "    soup = bs(html, 'html.parser')\n",
    "    pagina_actual = int(soup.find ('main', {'class':'listing-items'}).find('div',{'class':'pagination'}).find('li',{'class':'selected'}).text)\n",
    "\n",
    "\n",
    "    if x == pagina_actual:\n",
    "        articles = soup.find ('main', {'class':'listing-items'}).find_all('article')\n",
    "\n",
    "    else:\n",
    "        break\n",
    "\n",
    "    for article in articles:\n",
    "\n",
    "        id_muebles=article.get('data-element-id')\n",
    "        ids.append(id_muebles)\n",
    "        time.sleep(random.randint(1,3))\n",
    "        print(id_muebles)\n",
    "    ids = [muebles for muebles in id_muebles if muebles is not None]"
   ]
  },
  {
   "cell_type": "code",
   "execution_count": null,
   "id": "441b2cc3-8ccb-4f23-b7d2-cab4aff5c98c",
   "metadata": {},
   "outputs": [],
   "source": []
  }
 ],
 "metadata": {
  "kernelspec": {
   "display_name": "Python 3 (ipykernel)",
   "language": "python",
   "name": "python3"
  },
  "language_info": {
   "codemirror_mode": {
    "name": "ipython",
    "version": 3
   },
   "file_extension": ".py",
   "mimetype": "text/x-python",
   "name": "python",
   "nbconvert_exporter": "python",
   "pygments_lexer": "ipython3",
   "version": "3.13.0"
  }
 },
 "nbformat": 4,
 "nbformat_minor": 5
}
