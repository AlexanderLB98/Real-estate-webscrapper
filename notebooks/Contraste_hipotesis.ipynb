{
 "cells": [
  {
   "cell_type": "code",
   "execution_count": 2,
   "id": "ccc24a68-7400-4a56-a117-ceb7165c5c61",
   "metadata": {},
   "outputs": [],
   "source": [
    "import pandas as pd\n",
    "from scipy.stats import shapiro, levene, ttest_ind, mannwhitneyu"
   ]
  },
  {
   "cell_type": "code",
   "execution_count": 3,
   "id": "73d08003-eb1d-49f5-b6f3-30c05ae77356",
   "metadata": {},
   "outputs": [],
   "source": [
    "data_path = \"../data/processed/processed_data-valencia_barcelona.csv\"\n",
    "df = pd.read_csv(data_path)"
   ]
  },
  {
   "cell_type": "code",
   "execution_count": 4,
   "id": "c9676dad-91e1-41af-a4d4-1370d0f3af76",
   "metadata": {},
   "outputs": [],
   "source": [
    "#Grupos para realizar la hipostesis\n",
    "group_with_elevator = df[df['Elevator'] == 1]['price']\n",
    "group_without_elevator = df[df['Elevator'] == 0]['price']\n"
   ]
  },
  {
   "cell_type": "code",
   "execution_count": 6,
   "id": "f86f6a49-730d-4d71-b811-c77fcf902952",
   "metadata": {},
   "outputs": [
    {
     "name": "stdout",
     "output_type": "stream",
     "text": [
      "Normalidad Grupo con Ascensor: p=0.0000\n",
      "Normalidad Grupo sin Ascensor: p=0.0000\n"
     ]
    }
   ],
   "source": [
    "#Verificación de la normalidad\n",
    "\n",
    "stat1, p1 = shapiro(group_with_elevator)\n",
    "stat2, p2 = shapiro(group_without_elevator)\n",
    "print(f\"Normalidad Grupo con Ascensor: p={p1:.4f}\")\n",
    "print(f\"Normalidad Grupo sin Ascensor: p={p2:.4f}\")"
   ]
  },
  {
   "cell_type": "code",
   "execution_count": 7,
   "id": "14c037ad-0754-447b-890c-c6fa1c46049c",
   "metadata": {},
   "outputs": [
    {
     "name": "stdout",
     "output_type": "stream",
     "text": [
      "Homocedasticidad: p=0.2588\n"
     ]
    }
   ],
   "source": [
    "# Verificación de Homocedasticidad\n",
    "\n",
    "stat_lev, p_lev = levene(group_with_elevator, group_without_elevator)\n",
    "print(f\"Homocedasticidad: p={p_lev:.4f}\")\n"
   ]
  },
  {
   "cell_type": "code",
   "execution_count": 9,
   "id": "a4fc1f63-2e0b-4e1a-844b-2ea5f93750d4",
   "metadata": {},
   "outputs": [
    {
     "name": "stdout",
     "output_type": "stream",
     "text": [
      "Prueba U de Mann-Whitney: p=0.9608\n"
     ]
    }
   ],
   "source": [
    "# Prueba U de Mann-Whitney (no paramétrica)\n",
    "stat_u, p_u = mannwhitneyu(group_with_elevator, group_without_elevator)\n",
    "print(f\"Prueba U de Mann-Whitney: p={p_u:.4f}\")"
   ]
  },
  {
   "cell_type": "code",
   "execution_count": null,
   "id": "9dacfc4f-8551-4002-8df2-5e4a78dc9d7a",
   "metadata": {},
   "outputs": [],
   "source": []
  }
 ],
 "metadata": {
  "kernelspec": {
   "display_name": "Python 3 (ipykernel)",
   "language": "python",
   "name": "python3"
  },
  "language_info": {
   "codemirror_mode": {
    "name": "ipython",
    "version": 3
   },
   "file_extension": ".py",
   "mimetype": "text/x-python",
   "name": "python",
   "nbconvert_exporter": "python",
   "pygments_lexer": "ipython3",
   "version": "3.12.3"
  }
 },
 "nbformat": 4,
 "nbformat_minor": 5
}
